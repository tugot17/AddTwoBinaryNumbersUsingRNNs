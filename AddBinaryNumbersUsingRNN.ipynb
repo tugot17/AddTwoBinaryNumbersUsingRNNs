{
 "cells": [
  {
   "cell_type": "markdown",
   "metadata": {},
   "source": [
    "# Add 2 binary numbers using RNNs\n",
    "\n",
    "In this jupyter notebook we will focus on $\\textit{Recurrent Neural Network}$ which is a neural network that makes use of sequential information. It uses the order of inputs to create a logical connection between them, which is very useful in tasks like natural language processing, speech recognition and video activity recognition. \n",
    "\n",
    "We will use use RNN to teach model how to add 2 binary numbers. It is very simple learning problem, cause the main goal of that notebook is to become familiar with using RNNs in $\\textit{Tensorflow 2.0}$ \n",
    "\n"
   ]
  },
  {
   "cell_type": "markdown",
   "metadata": {},
   "source": [
    "<img src=\"images/binary_summation.gif\" style=\"width:30% ;height:30%;\">\n"
   ]
  },
  {
   "cell_type": "markdown",
   "metadata": {},
   "source": [
    "### In order to install TF 2,0 on google uncomment and run below code line "
   ]
  },
  {
   "cell_type": "code",
   "execution_count": 1,
   "metadata": {},
   "outputs": [],
   "source": [
    "# !pip install -q tensorflow==2.0.0-alpha0"
   ]
  },
  {
   "cell_type": "markdown",
   "metadata": {},
   "source": [
    "# Imports"
   ]
  },
  {
   "cell_type": "code",
   "execution_count": 2,
   "metadata": {},
   "outputs": [],
   "source": [
    "from tensorflow.keras import datasets, layers, models\n",
    "from tensorflow.keras.models import Sequential\n",
    "from tensorflow.keras.layers import Input, Dense, SimpleRNN, RepeatVector, TimeDistributed\n",
    "import numpy as np\n",
    "import tensorflow as tf\n",
    "from tqdm import tqdm_notebook"
   ]
  },
  {
   "cell_type": "markdown",
   "metadata": {},
   "source": [
    "# Set training parameters"
   ]
  },
  {
   "cell_type": "code",
   "execution_count": 3,
   "metadata": {},
   "outputs": [],
   "source": [
    "EPOCHS = 300\n",
    "BATCH_SIZE = 1024\n",
    "BUFFER_SIZE = 128\n",
    "LEARNING_RATE = 1e-3"
   ]
  },
  {
   "cell_type": "markdown",
   "metadata": {},
   "source": [
    "# Prepare training data"
   ]
  },
  {
   "cell_type": "markdown",
   "metadata": {},
   "source": [
    "## Generate data"
   ]
  },
  {
   "cell_type": "code",
   "execution_count": 4,
   "metadata": {},
   "outputs": [],
   "source": [
    "def get_data():\n",
    "    \"\"\"\n",
    "    :return: 2 np.arrays x and y. x of size (N, 2, 8) and y of size (N, 8, 1). x[n]\n",
    "            consist of 2 binary numbers y[n] is the result of addition of those 2 numbers\n",
    "    \"\"\"\n",
    "    x = []\n",
    "    y = []\n",
    "\n",
    "    for i in range(0, 127):\n",
    "        x_1 = np.unpackbits(np.uint8(i))\n",
    "        for j in range(0, 127):\n",
    "            x_2 = np.unpackbits(np.uint8(j))\n",
    "            x.append((x_1, x_2))\n",
    "            y.append(np.unpackbits(np.uint8(i + j)))\n",
    "\n",
    "    x = np.array(x)\n",
    "    y = np.array(y)\n",
    "\n",
    "    y = np.expand_dims(y, axis=2)\n",
    "\n",
    "    return x, y\n"
   ]
  },
  {
   "cell_type": "code",
   "execution_count": 5,
   "metadata": {},
   "outputs": [
    {
     "name": "stdout",
     "output_type": "stream",
     "text": [
      "X shape: (16129, 2, 8), we have 16129 examples, 2 numbers of 8 shape each\n",
      "y shape (16129, 8, 1)\n"
     ]
    }
   ],
   "source": [
    "x, y = get_data()\n",
    "\n",
    "x = tf.cast(x, tf.float32)\n",
    "y = tf.cast(y, tf.float32)\n",
    "\n",
    "print(f\"X shape: {x.shape}, we have {x.shape[0]} examples, {x.shape[1]} numbers of {x.shape[2]} shape each\")\n",
    "print(f\"y shape {y.shape}\")\n"
   ]
  },
  {
   "cell_type": "markdown",
   "metadata": {},
   "source": [
    "## Example data"
   ]
  },
  {
   "cell_type": "code",
   "execution_count": 15,
   "metadata": {},
   "outputs": [
    {
     "name": "stdout",
     "output_type": "stream",
     "text": [
      "0 b:[0. 0. 0. 0. 0. 0. 0. 0.] + 1 b:[0. 0. 0. 0. 0. 0. 0. 1.] = 1 b: [0. 0. 0. 0. 0. 0. 0. 1.]\n",
      "0 b:[0. 0. 0. 0. 0. 0. 0. 0.] + 10 b:[0. 0. 0. 0. 1. 0. 1. 0.] = 10 b: [0. 0. 0. 0. 1. 0. 1. 0.]\n",
      "0 b:[0. 0. 0. 0. 0. 0. 0. 0.] + 90 b:[0. 1. 0. 1. 1. 0. 1. 0.] = 90 b: [0. 1. 0. 1. 1. 0. 1. 0.]\n",
      "1 b:[0. 0. 0. 0. 0. 0. 0. 1.] + 23 b:[0. 0. 0. 1. 0. 1. 1. 1.] = 24 b: [0. 0. 0. 1. 1. 0. 0. 0.]\n"
     ]
    }
   ],
   "source": [
    "print(f\"0 b:{x[1,0]} + 1 b:{x[1,1]} = 1 b: {y[1, :, 0]}\")\n",
    "\n",
    "print(f\"0 b:{x[10,0]} + 10 b:{x[10,1]} = 10 b: {y[10, :, 0]}\")\n",
    "\n",
    "print(f\"0 b:{x[90,0]} + 90 b:{x[90,1]} = 90 b: {y[90, :, 0]}\")\n",
    "\n",
    "print(f\"1 b:{x[150,0]} + 23 b:{x[150,1]} = 24 b: {y[150, :, 0]}\")"
   ]
  },
  {
   "cell_type": "markdown",
   "metadata": {},
   "source": [
    "## Dataset API "
   ]
  },
  {
   "cell_type": "code",
   "execution_count": 7,
   "metadata": {},
   "outputs": [],
   "source": [
    "dataset = tf.data.Dataset.from_tensor_slices((x, y)).batch(BATCH_SIZE).shuffle(buffer_size=BUFFER_SIZE)"
   ]
  },
  {
   "cell_type": "markdown",
   "metadata": {},
   "source": [
    "# Prepare model"
   ]
  },
  {
   "cell_type": "code",
   "execution_count": 8,
   "metadata": {},
   "outputs": [],
   "source": [
    "def get_model():\n",
    "    \"\"\"\n",
    "    return: keras.models.Sequential\n",
    "    \"\"\"\n",
    "    model = Sequential()\n",
    "    model.add(Input(shape=(2,8)))\n",
    "    model.add(SimpleRNN(128, activation='relu'))\n",
    "    model.add(RepeatVector(8))\n",
    "    model.add(SimpleRNN(64, activation='relu', return_sequences=True))\n",
    "    model.add(TimeDistributed(Dense(1)))\n",
    "    \n",
    "    return model"
   ]
  },
  {
   "cell_type": "markdown",
   "metadata": {},
   "source": [
    "## Model sumary"
   ]
  },
  {
   "cell_type": "code",
   "execution_count": 9,
   "metadata": {},
   "outputs": [
    {
     "name": "stdout",
     "output_type": "stream",
     "text": [
      "Model: \"sequential\"\n",
      "_________________________________________________________________\n",
      "Layer (type)                 Output Shape              Param #   \n",
      "=================================================================\n",
      "simple_rnn (SimpleRNN)       (None, 128)               17536     \n",
      "_________________________________________________________________\n",
      "repeat_vector (RepeatVector) (None, 8, 128)            0         \n",
      "_________________________________________________________________\n",
      "simple_rnn_1 (SimpleRNN)     (None, 8, 64)             12352     \n",
      "_________________________________________________________________\n",
      "time_distributed (TimeDistri (None, 8, 1)              65        \n",
      "=================================================================\n",
      "Total params: 29,953\n",
      "Trainable params: 29,953\n",
      "Non-trainable params: 0\n",
      "_________________________________________________________________\n"
     ]
    }
   ],
   "source": [
    "model = get_model()\n",
    "model.summary()"
   ]
  },
  {
   "cell_type": "markdown",
   "metadata": {},
   "source": [
    "# Training"
   ]
  },
  {
   "cell_type": "markdown",
   "metadata": {},
   "source": [
    "## Define loss function and optimizer"
   ]
  },
  {
   "cell_type": "code",
   "execution_count": 10,
   "metadata": {},
   "outputs": [],
   "source": [
    "optimizer = tf.keras.optimizers.Adam(lr=LEARNING_RATE)\n",
    "loss = tf.keras.losses.MeanSquaredError()"
   ]
  },
  {
   "cell_type": "markdown",
   "metadata": {},
   "source": [
    "## Define accuracy measurements"
   ]
  },
  {
   "cell_type": "code",
   "execution_count": 11,
   "metadata": {},
   "outputs": [],
   "source": [
    "def get_binary_number_accuracy(y_true, y_pred):\n",
    "    \"\"\"\n",
    "    Function returns accuracy of prediction for N samples\n",
    "    where N is number of examples and d is amount of digits in a single nummber\n",
    "    :param y_true: np.array size of (N, d),\n",
    "    :param y_pred: np.array size of (N,d)\n",
    "    :return: scalar, accuracy\n",
    "    \"\"\"\n",
    "    accuracy = np.mean(np.prod(y_pred == y_true, axis=1))\n",
    "\n",
    "    return accuracy\n"
   ]
  },
  {
   "cell_type": "markdown",
   "metadata": {},
   "source": [
    "## Define training function"
   ]
  },
  {
   "cell_type": "code",
   "execution_count": 12,
   "metadata": {},
   "outputs": [],
   "source": [
    "def train(model, dataset):\n",
    "    \"\"\"\n",
    "    Function optimizes model parameters, model training is based on data from dataset\n",
    "    :param model: tensorflow model\n",
    "    :param dataset: tensorflow Dataset API\n",
    "    :return: None\n",
    "    \"\"\"\n",
    "    def train_step(images, labels):\n",
    "        with tf.GradientTape() as tape:\n",
    "            logits = model(images, training=True)\n",
    "            loss_value = loss(labels, logits)\n",
    "\n",
    "        grads = tape.gradient(loss_value, model.trainable_variables)\n",
    "        optimizer.apply_gradients(zip(grads, model.trainable_variables))\n",
    "\n",
    "    for epoch in tqdm_notebook(range(EPOCHS)):\n",
    "        for (batch, (data, labels)) in enumerate(dataset):\n",
    "            train_step(data, labels)\n"
   ]
  },
  {
   "cell_type": "markdown",
   "metadata": {},
   "source": [
    "## Launch training"
   ]
  },
  {
   "cell_type": "code",
   "execution_count": 13,
   "metadata": {},
   "outputs": [
    {
     "data": {
      "application/vnd.jupyter.widget-view+json": {
       "model_id": "4532ee6db24c4222aa079b0585c89df8",
       "version_major": 2,
       "version_minor": 0
      },
      "text/plain": [
       "HBox(children=(IntProgress(value=0, max=300), HTML(value='')))"
      ]
     },
     "metadata": {},
     "output_type": "display_data"
    },
    {
     "name": "stdout",
     "output_type": "stream",
     "text": [
      "\n"
     ]
    }
   ],
   "source": [
    "train(model, dataset)"
   ]
  },
  {
   "cell_type": "markdown",
   "metadata": {},
   "source": [
    "# Training accuracy"
   ]
  },
  {
   "cell_type": "code",
   "execution_count": 18,
   "metadata": {},
   "outputs": [
    {
     "name": "stdout",
     "output_type": "stream",
     "text": [
      "Binary Accuracy: 1.0\n"
     ]
    }
   ],
   "source": [
    "predictions = model.predict(x)\n",
    "y_pred = np.round(predictions)\n",
    "y_pred = np.abs(y_pred)\n",
    "y_true = y.numpy()\n",
    "\n",
    "print(f\"Binary Accuracy: {get_binary_number_accuracy(y_pred=y_pred, y_true=y_true)}\")"
   ]
  },
  {
   "cell_type": "markdown",
   "metadata": {},
   "source": [
    "# Example results"
   ]
  },
  {
   "cell_type": "code",
   "execution_count": 19,
   "metadata": {},
   "outputs": [
    {
     "name": "stdout",
     "output_type": "stream",
     "text": [
      "0 b:[0. 0. 0. 0. 0. 0. 0. 0.] + 1 b:[0. 0. 0. 0. 0. 0. 0. 1.] = 1 b: [0. 0. 0. 0. 0. 0. 0. 1.]\n",
      "0 b:[0. 0. 0. 0. 0. 0. 0. 0.] + 10 b:[0. 0. 0. 0. 1. 0. 1. 0.] = 10 b: [0. 0. 0. 0. 1. 0. 1. 0.]\n",
      "0 b:[0. 0. 0. 0. 0. 0. 0. 0.] + 90 b:[0. 1. 0. 1. 1. 0. 1. 0.] = 90 b: [0. 1. 0. 1. 1. 0. 1. 0.]\n",
      "1 b:[0. 0. 0. 0. 0. 0. 0. 1.] + 23 b:[0. 0. 0. 1. 0. 1. 1. 1.] = 24 b: [0. 0. 0. 1. 1. 0. 0. 0.]\n"
     ]
    }
   ],
   "source": [
    "print(f\"0 b:{x[1,0]} + 1 b:{x[1,1]} = 1 b: {y_pred[1, :, 0]}\")\n",
    "\n",
    "print(f\"0 b:{x[10,0]} + 10 b:{x[10,1]} = 10 b: {y_pred[10, :, 0]}\")\n",
    "\n",
    "print(f\"0 b:{x[90,0]} + 90 b:{x[90,1]} = 90 b: {y_pred[90, :, 0]}\")\n",
    "\n",
    "print(f\"1 b:{x[150,0]} + 23 b:{x[150,1]} = 24 b: {y_pred[150, :, 0]}\")"
   ]
  },
  {
   "cell_type": "markdown",
   "metadata": {},
   "source": [
    "# Summary\n",
    "\n",
    "As we can see our model model performs perfectly. This is due to the fact that it is relatively simple learning problem. It is possible to make it more complicated, e.g. by adding diffrent operations like \"minus\" or \"multiplication\" or by using numbers in diffrent form e.g. in hexadecimal system. "
   ]
  }
 ],
 "metadata": {
  "kernelspec": {
   "display_name": "Python 3",
   "language": "python",
   "name": "python3"
  },
  "language_info": {
   "codemirror_mode": {
    "name": "ipython",
    "version": 3
   },
   "file_extension": ".py",
   "mimetype": "text/x-python",
   "name": "python",
   "nbconvert_exporter": "python",
   "pygments_lexer": "ipython3",
   "version": "3.6.5"
  }
 },
 "nbformat": 4,
 "nbformat_minor": 2
}
